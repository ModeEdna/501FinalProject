{
 "cells": [
  {
   "cell_type": "raw",
   "metadata": {},
   "source": [
    "---\n",
    "pdf-engine: lualatex\n",
    "format:\n",
    "  html:\n",
    "    toc: true\n",
    "    code-fold: true\n",
    "    toc-title: Contents\n",
    "    bibliography: ../references.bib\n",
    "    number-sections: true\n",
    "execute:\n",
    "  echo: true\n",
    "  warning: false\n",
    "  message: false\n",
    "---"
   ]
  },
  {
   "cell_type": "markdown",
   "metadata": {},
   "source": [
    "## Clustering"
   ]
  },
  {
   "cell_type": "code",
   "execution_count": 5,
   "metadata": {},
   "outputs": [],
   "source": [
    "# loading requires libraries\n",
    "import matplotlib.pyplot as plt\n",
    "import pandas as pd\n",
    "import numpy as np\n",
    "import seaborn as sns"
   ]
  },
  {
   "cell_type": "markdown",
   "metadata": {},
   "source": [
    "### Feature data X\n",
    "\n",
    "For information on how the data was gathered, please refer to the data tab on this website. There, you can find information on data gathering, cleaning, etc. For clusterization methods, our feature data would be the same as the data used for all other models, but I have to remove the *PastGroup* variable, since those are the clusters we are trying to predict.\n",
    "\n",
    "Although clustering analysis is often used as a data exploration method, separating the vectors into their correct *PastGroup* label would offer an appropriate predictive model for me. This is because the goal is for my model to predict who makes it out of the group phase, which would be the same as classifying them under one of the two possible groups: 0 (didn't make it) and 1 (got out of the group stage)."
   ]
  },
  {
   "cell_type": "code",
   "execution_count": 6,
   "metadata": {},
   "outputs": [
    {
     "data": {
      "text/html": [
       "<div>\n",
       "<style scoped>\n",
       "    .dataframe tbody tr th:only-of-type {\n",
       "        vertical-align: middle;\n",
       "    }\n",
       "\n",
       "    .dataframe tbody tr th {\n",
       "        vertical-align: top;\n",
       "    }\n",
       "\n",
       "    .dataframe thead th {\n",
       "        text-align: right;\n",
       "    }\n",
       "</style>\n",
       "<table border=\"1\" class=\"dataframe\">\n",
       "  <thead>\n",
       "    <tr style=\"text-align: right;\">\n",
       "      <th></th>\n",
       "      <th>Host</th>\n",
       "      <th>PastGroup</th>\n",
       "      <th>DifficultGroup</th>\n",
       "      <th>RankFIFA</th>\n",
       "      <th>QualiStreak</th>\n",
       "      <th>Caps</th>\n",
       "      <th>eliteClub</th>\n",
       "      <th>Age</th>\n",
       "    </tr>\n",
       "  </thead>\n",
       "  <tbody>\n",
       "    <tr>\n",
       "      <th>0</th>\n",
       "      <td>0</td>\n",
       "      <td>1</td>\n",
       "      <td>1</td>\n",
       "      <td>20</td>\n",
       "      <td>2</td>\n",
       "      <td>24.000000</td>\n",
       "      <td>7</td>\n",
       "      <td>26.212717</td>\n",
       "    </tr>\n",
       "    <tr>\n",
       "      <th>1</th>\n",
       "      <td>0</td>\n",
       "      <td>0</td>\n",
       "      <td>1</td>\n",
       "      <td>1</td>\n",
       "      <td>2</td>\n",
       "      <td>38.304348</td>\n",
       "      <td>15</td>\n",
       "      <td>27.370376</td>\n",
       "    </tr>\n",
       "    <tr>\n",
       "      <th>2</th>\n",
       "      <td>0</td>\n",
       "      <td>1</td>\n",
       "      <td>1</td>\n",
       "      <td>42</td>\n",
       "      <td>1</td>\n",
       "      <td>17.826087</td>\n",
       "      <td>0</td>\n",
       "      <td>24.355427</td>\n",
       "    </tr>\n",
       "    <tr>\n",
       "      <th>3</th>\n",
       "      <td>0</td>\n",
       "      <td>0</td>\n",
       "      <td>1</td>\n",
       "      <td>24</td>\n",
       "      <td>1</td>\n",
       "      <td>22.869565</td>\n",
       "      <td>5</td>\n",
       "      <td>25.345519</td>\n",
       "    </tr>\n",
       "    <tr>\n",
       "      <th>4</th>\n",
       "      <td>0</td>\n",
       "      <td>1</td>\n",
       "      <td>0</td>\n",
       "      <td>8</td>\n",
       "      <td>7</td>\n",
       "      <td>18.043478</td>\n",
       "      <td>8</td>\n",
       "      <td>25.915279</td>\n",
       "    </tr>\n",
       "  </tbody>\n",
       "</table>\n",
       "</div>"
      ],
      "text/plain": [
       "   Host  PastGroup  DifficultGroup  RankFIFA  QualiStreak       Caps  \\\n",
       "0     0          1               1        20            2  24.000000   \n",
       "1     0          0               1         1            2  38.304348   \n",
       "2     0          1               1        42            1  17.826087   \n",
       "3     0          0               1        24            1  22.869565   \n",
       "4     0          1               0         8            7  18.043478   \n",
       "\n",
       "   eliteClub        Age  \n",
       "0          7  26.212717  \n",
       "1         15  27.370376  \n",
       "2          0  24.355427  \n",
       "3          5  25.345519  \n",
       "4          8  25.915279  "
      ]
     },
     "execution_count": 6,
     "metadata": {},
     "output_type": "execute_result"
    }
   ],
   "source": [
    "# import data\n",
    "df = pd.read_csv('../data/cleanData/allTables.csv')\n",
    "df.drop(['Unnamed: 0','Country','Group','Year'], axis=1, inplace=True)\n",
    "df.head()"
   ]
  },
  {
   "cell_type": "markdown",
   "metadata": {},
   "source": [
    "### Model descriptions\n",
    "\n",
    "**K-Means**\n",
    "\n",
    "K-Means is a model that separates *n* vectors into *k* clusters by assigning them to the cluster whose prototype (cluster centroid) is most similar to the vector in question. In simpler terms, K-Means attempts to group different rows of data based on their similarity. Hopefully, if the grouping is done correctly, we can learn new patterns and information about our data and how they relate to each other. \n",
    "\n",
    "For this method, we often use the Euclidean distance between points to understand their similarity. The closer the points are to each other, the more similar they are, and vice versa. To optimize this model, we use the elbow method, which is a graph that uses the inertia and/or distortion metrics to evaluate the model's ability to cluster data into different groups.\n",
    "\n",
    "Even though K-Means is a fast and efficient clustering method, it tends to work best with very specific datasets. It doesn't do well with data that isn't obviously forming a cluster or data that has unusual shapes (e.g. rings, circles, etc.).\n",
    "\n",
    "**DBSCAN**\n",
    "\n",
    "DBSCAN stands for Density Based Clustering of Applications with Noise. This type of model focuses on the density of data around an area and allows for points that are relatively nearby to be classified as different clusters if there happens to be non-dense space between them. For points that have no density around them, they are seen as outliers. This type of model is non-parametric, meaning that all adjustments to its performance come from the user in the form of hyperparameters.\n",
    "\n",
    "DBSCANs are best used for non-linear data, as it is able to better capture complicated relationships between data points. In situations where K-Means struggles to properly identify clusters, it would be a good idea to bring in DBSCANs to see if they perform better.\n",
    "\n",
    "In order to find the optimal hyperparameters, just like with K-Means, we can use the Elbow Method or the Silhouette Method. The Elbow Method focuses on the sum of squared distances of samples to their closest cluster center (good would be low inertia and low number of clusters), while the Silhouette Method focuses on the distance between the clusters (the closer the score is to 1, the better the clustering).\n",
    "\n",
    "**Hierarchical Clustering**\n",
    "\n",
    "Hierarchical clustering is not just one type of model, but a type of clustering. This method of clustering doesn't assume a particular number of groups, rather it creates a tree (dendrogram) of clusters and continues to separate points until each point is seen as its own cluster. Within hierarchical clustering, there are two types of methods: agglomerative and division. Agglomerative starts by making each point a cluster and works its way up to one cluster. Division does the opposite.\n",
    "\n",
    "These types of models are comparable to DBSCANs in terms of performance. They are able to cluster non-linear data with good precision. However, each model's accuracy can be dependent on the situation. It is best used for EDA and occasionaly as label predictors (depending on your data). To optimize it, we can also use the Elbow and Silhouette Methods.\n",
    "\n",
    "### Data preprocessing\n",
    "\n",
    "For this model, I had to remove certain non-numerical labels, given that numerical data is needed for clustering. I could've turned the string/factor variables into numerical data but they wouldn't provide much information on the teams' performance. The removed variables are *Country*, *Year*, and *Group*. Since none of these are seen as likely predictors of a team's success, I chose to remove them for this modeling section.\n",
    "\n",
    "The data used will be the same as the data previously shown on this page, but I will be removing the *PastGroup* variable to use later on for evaluation purposes. Also, there is no point in leaving the respective clusters for each data point within their vector! Furthermore, I standardized the data to ensure proper representation in the vector and improve results. Following is the normalized data set."
   ]
  },
  {
   "cell_type": "code",
   "execution_count": 7,
   "metadata": {},
   "outputs": [
    {
     "data": {
      "text/html": [
       "<div>\n",
       "<style scoped>\n",
       "    .dataframe tbody tr th:only-of-type {\n",
       "        vertical-align: middle;\n",
       "    }\n",
       "\n",
       "    .dataframe tbody tr th {\n",
       "        vertical-align: top;\n",
       "    }\n",
       "\n",
       "    .dataframe thead th {\n",
       "        text-align: right;\n",
       "    }\n",
       "</style>\n",
       "<table border=\"1\" class=\"dataframe\">\n",
       "  <thead>\n",
       "    <tr style=\"text-align: right;\">\n",
       "      <th></th>\n",
       "      <th>Host</th>\n",
       "      <th>DifficultGroup</th>\n",
       "      <th>RankFIFA</th>\n",
       "      <th>QualiStreak</th>\n",
       "      <th>Caps</th>\n",
       "      <th>eliteClub</th>\n",
       "      <th>Age</th>\n",
       "    </tr>\n",
       "  </thead>\n",
       "  <tbody>\n",
       "    <tr>\n",
       "      <th>0</th>\n",
       "      <td>-0.197386</td>\n",
       "      <td>1.732051</td>\n",
       "      <td>-0.206644</td>\n",
       "      <td>-0.460516</td>\n",
       "      <td>-1.005656</td>\n",
       "      <td>0.464009</td>\n",
       "      <td>-0.617086</td>\n",
       "    </tr>\n",
       "    <tr>\n",
       "      <th>1</th>\n",
       "      <td>-0.197386</td>\n",
       "      <td>1.732051</td>\n",
       "      <td>-1.239863</td>\n",
       "      <td>-0.460516</td>\n",
       "      <td>0.643064</td>\n",
       "      <td>2.060600</td>\n",
       "      <td>0.403308</td>\n",
       "    </tr>\n",
       "    <tr>\n",
       "      <th>2</th>\n",
       "      <td>-0.197386</td>\n",
       "      <td>1.732051</td>\n",
       "      <td>0.989715</td>\n",
       "      <td>-0.687232</td>\n",
       "      <td>-1.717262</td>\n",
       "      <td>-0.933008</td>\n",
       "      <td>-2.254155</td>\n",
       "    </tr>\n",
       "    <tr>\n",
       "      <th>3</th>\n",
       "      <td>-0.197386</td>\n",
       "      <td>1.732051</td>\n",
       "      <td>0.010876</td>\n",
       "      <td>-0.687232</td>\n",
       "      <td>-1.135950</td>\n",
       "      <td>0.064862</td>\n",
       "      <td>-1.381459</td>\n",
       "    </tr>\n",
       "    <tr>\n",
       "      <th>4</th>\n",
       "      <td>-0.197386</td>\n",
       "      <td>-0.577350</td>\n",
       "      <td>-0.859203</td>\n",
       "      <td>0.673062</td>\n",
       "      <td>-1.692206</td>\n",
       "      <td>0.663583</td>\n",
       "      <td>-0.879257</td>\n",
       "    </tr>\n",
       "  </tbody>\n",
       "</table>\n",
       "</div>"
      ],
      "text/plain": [
       "       Host  DifficultGroup  RankFIFA  QualiStreak      Caps  eliteClub  \\\n",
       "0 -0.197386        1.732051 -0.206644    -0.460516 -1.005656   0.464009   \n",
       "1 -0.197386        1.732051 -1.239863    -0.460516  0.643064   2.060600   \n",
       "2 -0.197386        1.732051  0.989715    -0.687232 -1.717262  -0.933008   \n",
       "3 -0.197386        1.732051  0.010876    -0.687232 -1.135950   0.064862   \n",
       "4 -0.197386       -0.577350 -0.859203     0.673062 -1.692206   0.663583   \n",
       "\n",
       "        Age  \n",
       "0 -0.617086  \n",
       "1  0.403308  \n",
       "2 -2.254155  \n",
       "3 -1.381459  \n",
       "4 -0.879257  "
      ]
     },
     "execution_count": 7,
     "metadata": {},
     "output_type": "execute_result"
    }
   ],
   "source": [
    "# separate the data into features and label and normalize\n",
    "y = df[['PastGroup']]\n",
    "x = df.drop('PastGroup', axis=1)\n",
    "\n",
    "# standardize the data\n",
    "from sklearn.preprocessing import StandardScaler\n",
    "scaler = StandardScaler()\n",
    "X = scaler.fit_transform(x)\n",
    "X = pd.DataFrame(X, columns=x.columns, index=x.index)\n",
    "X.head()"
   ]
  },
  {
   "cell_type": "markdown",
   "metadata": {},
   "source": [
    "### Model creation\n",
    "\n",
    "**K-Means**\n",
    "\n",
    "First we must go through hyperparameter tuning. In order to do so, we use the Elbow Method, which means iterating over different, possible hyperparameters to see which one gives us the best score."
   ]
  },
  {
   "cell_type": "code",
   "execution_count": 8,
   "metadata": {},
   "outputs": [
    {
     "data": {
      "text/html": [
       "<div>\n",
       "<style scoped>\n",
       "    .dataframe tbody tr th:only-of-type {\n",
       "        vertical-align: middle;\n",
       "    }\n",
       "\n",
       "    .dataframe tbody tr th {\n",
       "        vertical-align: top;\n",
       "    }\n",
       "\n",
       "    .dataframe thead th {\n",
       "        text-align: right;\n",
       "    }\n",
       "</style>\n",
       "<table border=\"1\" class=\"dataframe\">\n",
       "  <thead>\n",
       "    <tr style=\"text-align: right;\">\n",
       "      <th></th>\n",
       "      <th>Clusters</th>\n",
       "      <th>Distortion</th>\n",
       "      <th>Inertia</th>\n",
       "    </tr>\n",
       "  </thead>\n",
       "  <tbody>\n",
       "    <tr>\n",
       "      <th>0</th>\n",
       "      <td>1</td>\n",
       "      <td>2.410444</td>\n",
       "      <td>1120.000000</td>\n",
       "    </tr>\n",
       "    <tr>\n",
       "      <th>1</th>\n",
       "      <td>2</td>\n",
       "      <td>2.098632</td>\n",
       "      <td>866.046925</td>\n",
       "    </tr>\n",
       "    <tr>\n",
       "      <th>2</th>\n",
       "      <td>3</td>\n",
       "      <td>1.972900</td>\n",
       "      <td>713.955895</td>\n",
       "    </tr>\n",
       "    <tr>\n",
       "      <th>3</th>\n",
       "      <td>4</td>\n",
       "      <td>1.799369</td>\n",
       "      <td>593.695264</td>\n",
       "    </tr>\n",
       "    <tr>\n",
       "      <th>4</th>\n",
       "      <td>5</td>\n",
       "      <td>1.648833</td>\n",
       "      <td>516.249552</td>\n",
       "    </tr>\n",
       "    <tr>\n",
       "      <th>5</th>\n",
       "      <td>6</td>\n",
       "      <td>1.551209</td>\n",
       "      <td>465.984073</td>\n",
       "    </tr>\n",
       "    <tr>\n",
       "      <th>6</th>\n",
       "      <td>7</td>\n",
       "      <td>1.481509</td>\n",
       "      <td>421.136172</td>\n",
       "    </tr>\n",
       "    <tr>\n",
       "      <th>7</th>\n",
       "      <td>8</td>\n",
       "      <td>1.428495</td>\n",
       "      <td>390.201734</td>\n",
       "    </tr>\n",
       "    <tr>\n",
       "      <th>8</th>\n",
       "      <td>9</td>\n",
       "      <td>1.362819</td>\n",
       "      <td>360.102228</td>\n",
       "    </tr>\n",
       "    <tr>\n",
       "      <th>9</th>\n",
       "      <td>10</td>\n",
       "      <td>1.337178</td>\n",
       "      <td>336.328137</td>\n",
       "    </tr>\n",
       "  </tbody>\n",
       "</table>\n",
       "</div>"
      ],
      "text/plain": [
       "   Clusters  Distortion      Inertia\n",
       "0         1    2.410444  1120.000000\n",
       "1         2    2.098632   866.046925\n",
       "2         3    1.972900   713.955895\n",
       "3         4    1.799369   593.695264\n",
       "4         5    1.648833   516.249552\n",
       "5         6    1.551209   465.984073\n",
       "6         7    1.481509   421.136172\n",
       "7         8    1.428495   390.201734\n",
       "8         9    1.362819   360.102228\n",
       "9        10    1.337178   336.328137"
      ]
     },
     "execution_count": 8,
     "metadata": {},
     "output_type": "execute_result"
    }
   ],
   "source": [
    "# import required libraries\n",
    "from sklearn.cluster import KMeans\n",
    "from scipy.spatial.distance import cdist\n",
    "\n",
    "# created a list for each desired metric to later display on a dataframe and plot\n",
    "clus = []\n",
    "dist = []\n",
    "ine = []\n",
    "for i in range(1,11):\n",
    "    model = KMeans(n_clusters=i, random_state=0).fit(X)\n",
    "    ine.append(model.inertia_)\n",
    "    dist.append(sum(np.min(cdist(X, model.cluster_centers_,'euclidean'), axis=1)) / X.shape[0]) # used this part of code from a Geeks for Geeks page\n",
    "    clus.append(i)\n",
    "\n",
    "# use the list to create a dataframe with the performance\n",
    "df2 = pd.DataFrame({'Clusters': clus, 'Distortion': dist, 'Inertia': ine})\n",
    "df2"
   ]
  },
  {
   "cell_type": "markdown",
   "metadata": {},
   "source": [
    "Elbow plot:"
   ]
  },
  {
   "cell_type": "code",
   "execution_count": 11,
   "metadata": {},
   "outputs": [
    {
     "data": {
      "image/png": "[encoded data removed]",
      "text/plain": [
       "<Figure size 720x360 with 1 Axes>"
      ]
     },
     "metadata": {
      "needs_background": "light"
     },
     "output_type": "display_data"
    },
    {
     "data": {
      "image/png": "[encoded data removed]",
      "text/plain": [
       "<Figure size 720x360 with 1 Axes>"
      ]
     },
     "metadata": {
      "needs_background": "light"
     },
     "output_type": "display_data"
    }
   ],
   "source": [
    "# elbow plot for inertia\n",
    "plt.figure(figsize=(10,5))\n",
    "sns.lineplot(data=df2, x='Clusters', y='Inertia')\n",
    "plt.title('Performance of Clusters (Inertia)', fontsize=16)\n",
    "plt.xlabel('Cluster count', fontsize=13)\n",
    "plt.ylabel('Inertia', fontsize=13)\n",
    "plt.show()\n",
    "\n",
    "# elbow plot for distortion\n",
    "plt.figure(figsize=(10,5))\n",
    "sns.lineplot(data=df2, x='Clusters', y='Distortion')\n",
    "plt.title('Performance of Clusters (Distortion)', fontsize=16)\n",
    "plt.xlabel('Cluster count', fontsize=13)\n",
    "plt.ylabel('Distortion', fontsize=13)\n",
    "plt.show()"
   ]
  },
  {
   "cell_type": "markdown",
   "metadata": {},
   "source": [
    "According to the above graphs, the optimal choice of clusters would be at the inflection point of 5 clusters. Now that we know this, we must recreate the model with the optimal number of clusters."
   ]
  },
  {
   "cell_type": "code",
   "execution_count": 12,
   "metadata": {},
   "outputs": [
    {
     "name": "stdout",
     "output_type": "stream",
     "text": [
      "Inertia for the 5-cluster model is : 516.2495520286845\n",
      "The variables used for the model were : ['Host' 'DifficultGroup' 'RankFIFA' 'QualiStreak' 'Caps' 'eliteClub' 'Age']\n"
     ]
    }
   ],
   "source": [
    "# fit the model using the optimal number of clusters\n",
    "model = KMeans(n_clusters=5, random_state=0).fit(X)\n",
    "# print the inertia for the model and variables used\n",
    "print('Inertia for the 5-cluster model is : ' + str(model.inertia_))\n",
    "print('The variables used for the model were : ' + str(model.feature_names_in_))"
   ]
  },
  {
   "cell_type": "markdown",
   "metadata": {},
   "source": [
    "Ideally, we would've wanted the clustering method to group the data into two groups, one representing the teams that got into the knockout stage and the other representing the teams that didn't make it out of the group stage. Unfortunately, the optimal number of clusters is 5, so we now have to figure out what each of them represent."
   ]
  },
  {
   "cell_type": "markdown",
   "metadata": {},
   "source": [
    "**DBSCAN**\n",
    "\n",
    "We repeat the hyperparameter tuning process used for K-Means, but this time with the silhouette score."
   ]
  },
  {
   "cell_type": "code",
   "execution_count": 13,
   "metadata": {},
   "outputs": [
    {
     "data": {
      "text/html": [
       "<div>\n",
       "<style scoped>\n",
       "    .dataframe tbody tr th:only-of-type {\n",
       "        vertical-align: middle;\n",
       "    }\n",
       "\n",
       "    .dataframe tbody tr th {\n",
       "        vertical-align: top;\n",
       "    }\n",
       "\n",
       "    .dataframe thead th {\n",
       "        text-align: right;\n",
       "    }\n",
       "</style>\n",
       "<table border=\"1\" class=\"dataframe\">\n",
       "  <thead>\n",
       "    <tr style=\"text-align: right;\">\n",
       "      <th></th>\n",
       "      <th>Clusters</th>\n",
       "      <th>Eps</th>\n",
       "      <th>Silhouette</th>\n",
       "    </tr>\n",
       "  </thead>\n",
       "  <tbody>\n",
       "    <tr>\n",
       "      <th>0</th>\n",
       "      <td>7</td>\n",
       "      <td>1.0</td>\n",
       "      <td>-0.047503</td>\n",
       "    </tr>\n",
       "    <tr>\n",
       "      <th>1</th>\n",
       "      <td>6</td>\n",
       "      <td>1.1</td>\n",
       "      <td>0.084714</td>\n",
       "    </tr>\n",
       "    <tr>\n",
       "      <th>2</th>\n",
       "      <td>7</td>\n",
       "      <td>1.2</td>\n",
       "      <td>0.111169</td>\n",
       "    </tr>\n",
       "    <tr>\n",
       "      <th>3</th>\n",
       "      <td>7</td>\n",
       "      <td>1.3</td>\n",
       "      <td>0.133401</td>\n",
       "    </tr>\n",
       "    <tr>\n",
       "      <th>4</th>\n",
       "      <td>4</td>\n",
       "      <td>1.4</td>\n",
       "      <td>0.213129</td>\n",
       "    </tr>\n",
       "    <tr>\n",
       "      <th>5</th>\n",
       "      <td>4</td>\n",
       "      <td>1.5</td>\n",
       "      <td>0.222293</td>\n",
       "    </tr>\n",
       "    <tr>\n",
       "      <th>6</th>\n",
       "      <td>3</td>\n",
       "      <td>1.6</td>\n",
       "      <td>0.221920</td>\n",
       "    </tr>\n",
       "    <tr>\n",
       "      <th>7</th>\n",
       "      <td>4</td>\n",
       "      <td>1.7</td>\n",
       "      <td>0.217839</td>\n",
       "    </tr>\n",
       "    <tr>\n",
       "      <th>8</th>\n",
       "      <td>4</td>\n",
       "      <td>1.8</td>\n",
       "      <td>0.223472</td>\n",
       "    </tr>\n",
       "    <tr>\n",
       "      <th>9</th>\n",
       "      <td>4</td>\n",
       "      <td>1.9</td>\n",
       "      <td>0.227048</td>\n",
       "    </tr>\n",
       "    <tr>\n",
       "      <th>10</th>\n",
       "      <td>3</td>\n",
       "      <td>2.0</td>\n",
       "      <td>0.257012</td>\n",
       "    </tr>\n",
       "  </tbody>\n",
       "</table>\n",
       "</div>"
      ],
      "text/plain": [
       "    Clusters  Eps  Silhouette\n",
       "0          7  1.0   -0.047503\n",
       "1          6  1.1    0.084714\n",
       "2          7  1.2    0.111169\n",
       "3          7  1.3    0.133401\n",
       "4          4  1.4    0.213129\n",
       "5          4  1.5    0.222293\n",
       "6          3  1.6    0.221920\n",
       "7          4  1.7    0.217839\n",
       "8          4  1.8    0.223472\n",
       "9          4  1.9    0.227048\n",
       "10         3  2.0    0.257012"
      ]
     },
     "execution_count": 13,
     "metadata": {},
     "output_type": "execute_result"
    }
   ],
   "source": [
    "# import desired metrics\n",
    "from sklearn.cluster import DBSCAN\n",
    "from sklearn.metrics import silhouette_score\n",
    "\n",
    "# create list for iterating values and dataframe\n",
    "clus = []\n",
    "eps = []\n",
    "sil = []\n",
    "for i in [1,1.1,1.2,1.3,1.4,1.5,1.6,1.7,1.8,1.9,2]:\n",
    "    model = DBSCAN(eps=i, min_samples=3)\n",
    "    preds = model.fit_predict(X)\n",
    "    eps.append(i)\n",
    "    sil.append(silhouette_score(X, preds))\n",
    "    clus.append(len(pd.Series(preds).unique()))\n",
    "\n",
    "# create a data frame with the metrics\n",
    "df3 = pd.DataFrame({'Clusters': clus, 'Eps': eps, 'Silhouette': sil})\n",
    "df3"
   ]
  },
  {
   "cell_type": "code",
   "execution_count": 14,
   "metadata": {},
   "outputs": [
    {
     "data": {
      "image/png": "[encoded data removed]",
      "text/plain": [
       "<Figure size 720x360 with 1 Axes>"
      ]
     },
     "metadata": {
      "needs_background": "light"
     },
     "output_type": "display_data"
    }
   ],
   "source": [
    "# plot the elbow method graph\n",
    "plt.figure(figsize=(10,5))\n",
    "sns.lineplot(data=df3, x='Eps',y='Silhouette')\n",
    "plt.title('Performance of EPS (Silhouette)', fontsize=16)\n",
    "plt.xlabel('Eps value', fontsize=13)\n",
    "plt.ylabel('Silhouette score', fontsize=13)\n",
    "plt.show()"
   ]
  },
  {
   "cell_type": "markdown",
   "metadata": {},
   "source": [
    "The optimal results say that we should choose a DBSCAN model with eps of 2. For context, the eps hyperparameter defines the threshold for distance between points to be considered part of the same cluster. That is, for each point that is being compared to another, if they are less than 2 distance units away from each other, they will be considered as belonging to the same group. For the silhouette score, we want to get as close to 1 as possible, and an eps of 2.0 gave us the highest silhouette score of 0.24. This score and eps correspond to a model that created 3 clusters."
   ]
  },
  {
   "cell_type": "code",
   "execution_count": 15,
   "metadata": {},
   "outputs": [
    {
     "name": "stdout",
     "output_type": "stream",
     "text": [
      "The labels assigned by this model are : {0, 1, -1}\n",
      "The variables used for the model were : ['Host' 'DifficultGroup' 'RankFIFA' 'QualiStreak' 'Caps' 'eliteClub' 'Age']\n"
     ]
    }
   ],
   "source": [
    "# creating the optimal model\n",
    "model2 = DBSCAN(eps=2, min_samples=3)\n",
    "preds = model2.fit_predict(X)\n",
    "# printing their labels and variables used\n",
    "print('The labels assigned by this model are : ' + str(set(model2.labels_)))\n",
    "print('The variables used for the model were : ' + str(model2.feature_names_in_))"
   ]
  },
  {
   "cell_type": "markdown",
   "metadata": {},
   "source": [
    "DBSCAN's optimal model clusters the data into 3 groups, and most of the points are being put into two of the three groups. This result is closer to what we're looking for, but we need to see if the clusters correspond to the teams that make it out group stages and those who don't."
   ]
  },
  {
   "cell_type": "markdown",
   "metadata": {},
   "source": [
    "**Agglomerative**\n",
    "\n",
    "We repeat the hyperparameter tuning process used for DBSCAN modeling."
   ]
  },
  {
   "cell_type": "code",
   "execution_count": 16,
   "metadata": {},
   "outputs": [
    {
     "data": {
      "text/html": [
       "<div>\n",
       "<style scoped>\n",
       "    .dataframe tbody tr th:only-of-type {\n",
       "        vertical-align: middle;\n",
       "    }\n",
       "\n",
       "    .dataframe tbody tr th {\n",
       "        vertical-align: top;\n",
       "    }\n",
       "\n",
       "    .dataframe thead th {\n",
       "        text-align: right;\n",
       "    }\n",
       "</style>\n",
       "<table border=\"1\" class=\"dataframe\">\n",
       "  <thead>\n",
       "    <tr style=\"text-align: right;\">\n",
       "      <th></th>\n",
       "      <th>Clusters</th>\n",
       "      <th>Silhouette</th>\n",
       "    </tr>\n",
       "  </thead>\n",
       "  <tbody>\n",
       "    <tr>\n",
       "      <th>0</th>\n",
       "      <td>2</td>\n",
       "      <td>0.236370</td>\n",
       "    </tr>\n",
       "    <tr>\n",
       "      <th>1</th>\n",
       "      <td>3</td>\n",
       "      <td>0.268206</td>\n",
       "    </tr>\n",
       "    <tr>\n",
       "      <th>2</th>\n",
       "      <td>4</td>\n",
       "      <td>0.277240</td>\n",
       "    </tr>\n",
       "    <tr>\n",
       "      <th>3</th>\n",
       "      <td>5</td>\n",
       "      <td>0.228017</td>\n",
       "    </tr>\n",
       "    <tr>\n",
       "      <th>4</th>\n",
       "      <td>6</td>\n",
       "      <td>0.243023</td>\n",
       "    </tr>\n",
       "    <tr>\n",
       "      <th>5</th>\n",
       "      <td>7</td>\n",
       "      <td>0.236350</td>\n",
       "    </tr>\n",
       "    <tr>\n",
       "      <th>6</th>\n",
       "      <td>8</td>\n",
       "      <td>0.238881</td>\n",
       "    </tr>\n",
       "    <tr>\n",
       "      <th>7</th>\n",
       "      <td>9</td>\n",
       "      <td>0.243201</td>\n",
       "    </tr>\n",
       "    <tr>\n",
       "      <th>8</th>\n",
       "      <td>10</td>\n",
       "      <td>0.236582</td>\n",
       "    </tr>\n",
       "  </tbody>\n",
       "</table>\n",
       "</div>"
      ],
      "text/plain": [
       "   Clusters  Silhouette\n",
       "0         2    0.236370\n",
       "1         3    0.268206\n",
       "2         4    0.277240\n",
       "3         5    0.228017\n",
       "4         6    0.243023\n",
       "5         7    0.236350\n",
       "6         8    0.238881\n",
       "7         9    0.243201\n",
       "8        10    0.236582"
      ]
     },
     "execution_count": 16,
     "metadata": {},
     "output_type": "execute_result"
    }
   ],
   "source": [
    "from sklearn.cluster import AgglomerativeClustering\n",
    "# Perform Agglomerative Clustering\n",
    "clus = []\n",
    "sil = []\n",
    "for i in range(2,11):\n",
    "    model = AgglomerativeClustering(n_clusters=i)\n",
    "    preds = model.fit_predict(X)\n",
    "    sil.append(silhouette_score(X, preds))\n",
    "    clus.append(i)\n",
    "\n",
    "# turn the metrics into a dataframe    \n",
    "df4 = pd.DataFrame({'Clusters': clus, 'Silhouette': sil})\n",
    "df4"
   ]
  },
  {
   "cell_type": "code",
   "execution_count": 18,
   "metadata": {},
   "outputs": [
    {
     "data": {
      "image/png": "[encoded data removed]",
      "text/plain": [
       "<Figure size 720x360 with 1 Axes>"
      ]
     },
     "metadata": {
      "needs_background": "light"
     },
     "output_type": "display_data"
    }
   ],
   "source": [
    "# plot the iterative process\n",
    "plt.figure(figsize=(10,5))\n",
    "sns.lineplot(data=df4, x='Clusters',y='Silhouette')\n",
    "plt.title('Cluster Count Performance (Silhouette)', fontsize=16)\n",
    "plt.xlabel('Cluster count', fontsize=13)\n",
    "plt.ylabel('Silhouette score', fontsize=13)\n",
    "plt.show()"
   ]
  },
  {
   "cell_type": "markdown",
   "metadata": {},
   "source": [
    "The optimal results say that we should choose a model with 4 clusters, as the silhouette score is highest with that option. Choosing 3 clusters would yield a similar score, so if we are interested in minimizing the number of clusters, 3 would also be a good option. Since I want to get 2 or 3 clusters, I'll go for the smaller option."
   ]
  },
  {
   "cell_type": "code",
   "execution_count": 19,
   "metadata": {},
   "outputs": [
    {
     "name": "stdout",
     "output_type": "stream",
     "text": [
      "The labels assigned by this model are : {0, 1, 2}\n",
      "The variables used for the model were : ['Host' 'DifficultGroup' 'RankFIFA' 'QualiStreak' 'Caps' 'eliteClub' 'Age']\n"
     ]
    }
   ],
   "source": [
    "# creating the optimal model and finding some of its attributes\n",
    "model3 = AgglomerativeClustering(n_clusters=3)\n",
    "preds = model3.fit_predict(X)\n",
    "# print the labels and variable used in the model\n",
    "print('The labels assigned by this model are : ' + str(set(model3.labels_)))\n",
    "print('The variables used for the model were : ' + str(model3.feature_names_in_))"
   ]
  },
  {
   "cell_type": "markdown",
   "metadata": {},
   "source": [
    "The above code shows some of the attributes coming from the optimal model."
   ]
  },
  {
   "cell_type": "markdown",
   "metadata": {},
   "source": [
    "### Results\n",
    "Given that K-Mean works best for linear data, I found DBSCAN and agglomerative clustering to be the ones that gave the best result, or at least, the results closest to what I was looking for. K-Means wanted to create too many clusters and the other two options decided on a range of 2-4 clusters as the optimal amount. In terms of ease of use, they were all equally easy to create. Since I'm using the sklearn library, all I had to do was replicate the code I had used for the previous model. It only took some messing around with the hyperparameters to create the model. \n",
    "\n",
    "To find connections between the predicted labels and the gorund truth, I added the predictions back into the y dataframe that contained the labels and compared the values for each model's predictions against the labels."
   ]
  },
  {
   "cell_type": "code",
   "execution_count": 13,
   "metadata": {},
   "outputs": [
    {
     "data": {
      "text/html": [
       "<div>\n",
       "<style scoped>\n",
       "    .dataframe tbody tr th:only-of-type {\n",
       "        vertical-align: middle;\n",
       "    }\n",
       "\n",
       "    .dataframe tbody tr th {\n",
       "        vertical-align: top;\n",
       "    }\n",
       "\n",
       "    .dataframe thead th {\n",
       "        text-align: right;\n",
       "    }\n",
       "</style>\n",
       "<table border=\"1\" class=\"dataframe\">\n",
       "  <thead>\n",
       "    <tr style=\"text-align: right;\">\n",
       "      <th></th>\n",
       "      <th>PastGroup</th>\n",
       "      <th>K-Means</th>\n",
       "      <th>DBSCAN</th>\n",
       "      <th>Agglomerative</th>\n",
       "      <th>K-Means.D</th>\n",
       "      <th>DBSCAN.D</th>\n",
       "      <th>Agglomerative.D</th>\n",
       "    </tr>\n",
       "  </thead>\n",
       "  <tbody>\n",
       "    <tr>\n",
       "      <th>0</th>\n",
       "      <td>1</td>\n",
       "      <td>0</td>\n",
       "      <td>0</td>\n",
       "      <td>0</td>\n",
       "      <td>False</td>\n",
       "      <td>False</td>\n",
       "      <td>False</td>\n",
       "    </tr>\n",
       "    <tr>\n",
       "      <th>1</th>\n",
       "      <td>0</td>\n",
       "      <td>0</td>\n",
       "      <td>0</td>\n",
       "      <td>0</td>\n",
       "      <td>True</td>\n",
       "      <td>True</td>\n",
       "      <td>True</td>\n",
       "    </tr>\n",
       "    <tr>\n",
       "      <th>2</th>\n",
       "      <td>1</td>\n",
       "      <td>6</td>\n",
       "      <td>0</td>\n",
       "      <td>1</td>\n",
       "      <td>False</td>\n",
       "      <td>False</td>\n",
       "      <td>True</td>\n",
       "    </tr>\n",
       "    <tr>\n",
       "      <th>3</th>\n",
       "      <td>0</td>\n",
       "      <td>0</td>\n",
       "      <td>0</td>\n",
       "      <td>0</td>\n",
       "      <td>True</td>\n",
       "      <td>True</td>\n",
       "      <td>True</td>\n",
       "    </tr>\n",
       "    <tr>\n",
       "      <th>4</th>\n",
       "      <td>1</td>\n",
       "      <td>4</td>\n",
       "      <td>1</td>\n",
       "      <td>0</td>\n",
       "      <td>False</td>\n",
       "      <td>True</td>\n",
       "      <td>False</td>\n",
       "    </tr>\n",
       "    <tr>\n",
       "      <th>...</th>\n",
       "      <td>...</td>\n",
       "      <td>...</td>\n",
       "      <td>...</td>\n",
       "      <td>...</td>\n",
       "      <td>...</td>\n",
       "      <td>...</td>\n",
       "      <td>...</td>\n",
       "    </tr>\n",
       "    <tr>\n",
       "      <th>155</th>\n",
       "      <td>0</td>\n",
       "      <td>1</td>\n",
       "      <td>1</td>\n",
       "      <td>1</td>\n",
       "      <td>False</td>\n",
       "      <td>False</td>\n",
       "      <td>False</td>\n",
       "    </tr>\n",
       "    <tr>\n",
       "      <th>156</th>\n",
       "      <td>1</td>\n",
       "      <td>1</td>\n",
       "      <td>1</td>\n",
       "      <td>1</td>\n",
       "      <td>True</td>\n",
       "      <td>True</td>\n",
       "      <td>True</td>\n",
       "    </tr>\n",
       "    <tr>\n",
       "      <th>157</th>\n",
       "      <td>1</td>\n",
       "      <td>1</td>\n",
       "      <td>1</td>\n",
       "      <td>1</td>\n",
       "      <td>True</td>\n",
       "      <td>True</td>\n",
       "      <td>True</td>\n",
       "    </tr>\n",
       "    <tr>\n",
       "      <th>158</th>\n",
       "      <td>0</td>\n",
       "      <td>3</td>\n",
       "      <td>1</td>\n",
       "      <td>1</td>\n",
       "      <td>False</td>\n",
       "      <td>False</td>\n",
       "      <td>False</td>\n",
       "    </tr>\n",
       "    <tr>\n",
       "      <th>159</th>\n",
       "      <td>0</td>\n",
       "      <td>1</td>\n",
       "      <td>1</td>\n",
       "      <td>1</td>\n",
       "      <td>False</td>\n",
       "      <td>False</td>\n",
       "      <td>False</td>\n",
       "    </tr>\n",
       "  </tbody>\n",
       "</table>\n",
       "<p>160 rows × 7 columns</p>\n",
       "</div>"
      ],
      "text/plain": [
       "     PastGroup  K-Means  DBSCAN  Agglomerative  K-Means.D  DBSCAN.D  \\\n",
       "0            1        0       0              0      False     False   \n",
       "1            0        0       0              0       True      True   \n",
       "2            1        6       0              1      False     False   \n",
       "3            0        0       0              0       True      True   \n",
       "4            1        4       1              0      False      True   \n",
       "..         ...      ...     ...            ...        ...       ...   \n",
       "155          0        1       1              1      False     False   \n",
       "156          1        1       1              1       True      True   \n",
       "157          1        1       1              1       True      True   \n",
       "158          0        3       1              1      False     False   \n",
       "159          0        1       1              1      False     False   \n",
       "\n",
       "     Agglomerative.D  \n",
       "0              False  \n",
       "1               True  \n",
       "2               True  \n",
       "3               True  \n",
       "4              False  \n",
       "..               ...  \n",
       "155            False  \n",
       "156             True  \n",
       "157             True  \n",
       "158            False  \n",
       "159            False  \n",
       "\n",
       "[160 rows x 7 columns]"
      ]
     },
     "execution_count": 13,
     "metadata": {},
     "output_type": "execute_result"
    }
   ],
   "source": [
    "pd.options.mode.chained_assignment = None\n",
    "# adding the labels as columns to the y df\n",
    "y['K-Means'] = model.labels_\n",
    "y['DBSCAN'] = model2.labels_\n",
    "y['Agglomerative'] = model3.labels_\n",
    "y['K-Means.D'] = np.where(y['PastGroup']==y['K-Means'], True, False)\n",
    "y['DBSCAN.D'] = np.where(y['PastGroup']==y['DBSCAN'], True, False)\n",
    "y['Agglomerative.D'] = np.where(y['PastGroup']==y['Agglomerative'], True, False)\n",
    "y"
   ]
  },
  {
   "cell_type": "code",
   "execution_count": 14,
   "metadata": {},
   "outputs": [
    {
     "data": {
      "text/plain": [
       "PastGroup           80\n",
       "K-Means            409\n",
       "DBSCAN             106\n",
       "Agglomerative      106\n",
       "K-Means.D           32\n",
       "DBSCAN.D            71\n",
       "Agglomerative.D     51\n",
       "dtype: int64"
      ]
     },
     "execution_count": 14,
     "metadata": {},
     "output_type": "execute_result"
    }
   ],
   "source": [
    "# sum over values to see what got guessed correctly\n",
    "y.sum(axis=0)"
   ]
  },
  {
   "cell_type": "markdown",
   "metadata": {},
   "source": [
    "I decided to sum the rows to test the accuracy of the clustering methods. Since the length of *PastGroup* is 160, the closer the sum gets to this number (only works with the columns that end in '.D'), the closer we are to good accuracy. We can take the sum of each column and divide by 160 to get the accuracy. Based on this scoring method, the model that performs best is the DBSCAN model, but it still comes in at less than 50%. This is mainly due to the clustering methods creating more than two clusters. So, by default, we will immediately get incorrect clusterization for anything that isn't a 0 or a 1. This could be fixable by choosing hyperparameters that yield 2 clusters, but then we wouldn't be selecting the optimal models according to their processes."
   ]
  },
  {
   "cell_type": "code",
   "execution_count": 22,
   "metadata": {},
   "outputs": [],
   "source": [
    "# adding the predicted labels to the original df\n",
    "df['K-Means'] = model.labels_\n",
    "df['DBSCAN'] = model2.labels_\n",
    "df['Agglomerative'] = model3.labels_\n",
    "df['K-Means.D'] = np.where(df['PastGroup']==df['K-Means'], True, False)\n",
    "df['DBSCAN.D'] = np.where(df['PastGroup']==df['DBSCAN'], True, False)\n",
    "df['Agglomerative.D'] = np.where(df['PastGroup']==df['Agglomerative'], True, False)"
   ]
  },
  {
   "cell_type": "markdown",
   "metadata": {},
   "source": [
    "To see if the clustering can give any new information on the data, I plotted a two-dimensional version of the data and colored the points based on their predicte cluster. It can be diffuclt to visualize the reasoning behind the clustering since we're not including all dimensions used to cluster."
   ]
  },
  {
   "cell_type": "code",
   "execution_count": 38,
   "metadata": {},
   "outputs": [
    {
     "data": {
      "image/png": "[encoded data removed]",
      "text/plain": [
       "<Figure size 1080x360 with 3 Axes>"
      ]
     },
     "metadata": {
      "needs_background": "light"
     },
     "output_type": "display_data"
    }
   ],
   "source": [
    "# creating a scatterplot with their predicted labels\n",
    "fig, ax = plt.subplots(1,3, figsize=(15,5))\n",
    "sns.scatterplot(data=df, x='RankFIFA', y='eliteClub', hue='DBSCAN', ax=ax[0])\n",
    "sns.scatterplot(data=df, x='RankFIFA', y='eliteClub', hue='K-Means', ax=ax[1])\n",
    "sns.scatterplot(data=df, x='RankFIFA', y='eliteClub', hue='Agglomerative', ax=ax[2])\n",
    "ax[0].set_title('DBSCAN Cluster Predictions', fontsize=14)\n",
    "ax[0].set_xlabel('FIFA Rank', fontsize=12)\n",
    "ax[0].set_ylabel('Elite Club', fontsize=12)\n",
    "ax[1].set_title('K-Means Cluster Predictions', fontsize=14)\n",
    "ax[1].set_xlabel('FIFA Rank', fontsize=12)\n",
    "ax[1].set_ylabel('Elite Club', fontsize=12)\n",
    "ax[2].set_title('Agglomerative Cluster Predictions', fontsize=14)\n",
    "ax[2].set_xlabel('FIFA Rank', fontsize=12)\n",
    "ax[2].set_ylabel('Elite Club', fontsize=12);"
   ]
  },
  {
   "cell_type": "markdown",
   "metadata": {},
   "source": [
    "Unfortunately, the clustering did not provide any new insights on the data. The agglomerative clustering method gets a bit closer to properly separating the clusters than the two other emthods, but it's still not good enough. From this limited perspective, I theorize that the variables I have for predicting who makes it out of the group stage might not be as effective as initially thought. Either that, or some of the variables aren't needed and are just creating additional noise."
   ]
  },
  {
   "cell_type": "markdown",
   "metadata": {},
   "source": [
    "### Conclusion\n",
    "I would like to start my conclusion by reminding the reader that clusterization methods are usually employed for exploratory data analysis. These methods are not meant to be used as predictive models, but, with the right data, they can work well in doing so. After using K-Means, DBSCAN, and Agglomerative clustering methods, optimal models separated the data into 3 or 4 clusters. Although the models are likely finding trends in the data we haven't been able to decipher, they aren't keen in clustering the data into only 2 categories.\n",
    "\n",
    "If desired, we could ask the models to purposely put the data into only two clusters, and then we could compare their label predictions against the teams who made it past the group stage and those who didn't. This would be a next step for this section, but for now I want to accept the recommended optimal models as the ones to analyze.\n",
    "\n",
    "If we're trying to predict teams' success in the World Cup with an accuracy of over 70%, these models are not the way to go. The DBSCAN, which has the best score at ~45% accuracy rate, is performing at a worse rate than a random guess. Do keep in mind that the clusters have more than 2 categories, so it makes perfect sense for them to be inefficient in classifying a 2-category problem. Going forward, it could be valuable to explore the relationships that the model found and also their ability to predict the teams that make it out of the group stage. Maybe the model's ability to predict 1s is much better than the overall accuracy!"
   ]
  }
 ],
 "metadata": {
  "kernelspec": {
   "display_name": "Python 3.10.4 ('ANLY501')",
   "language": "python",
   "name": "python3"
  },
  "language_info": {
   "codemirror_mode": {
    "name": "ipython",
    "version": 3
   },
   "file_extension": ".py",
   "mimetype": "text/x-python",
   "name": "python",
   "nbconvert_exporter": "python",
   "pygments_lexer": "ipython3",
   "version": "3.10.4"
  },
  "orig_nbformat": 4,
  "vscode": {
   "interpreter": {
    "hash": "6c72976fb237423a2a1d3151ac569995244a4a767dd0452f9a8ae3f982e3763a"
   }
  }
 },
 "nbformat": 4,
 "nbformat_minor": 2
}

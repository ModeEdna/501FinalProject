{
 "cells": [
  {
   "cell_type": "raw",
   "metadata": {},
   "source": [
    "---\n",
    "pdf-engine: lualatex\n",
    "format:\n",
    "  html:\n",
    "    toc: true\n",
    "    code-fold: true\n",
    "    toc-title: Contents\n",
    "    bibliography: ../references.bib\n",
    "    number-sections: true\n",
    "execute:\n",
    "  echo: true\n",
    "---"
   ]
  },
  {
   "cell_type": "markdown",
   "metadata": {},
   "source": [
    "## About Me\n",
    "\n",
    "### Trajectory\n",
    "Hi, everyone. My name is Eduardo Armenta but feel free to call me Edy; most people do. This might be repetitive, but I studied Business (INTL BUS and ISOM) and French as an undergrad. Although my program taught me the importance of leveraging technology and data to grow your business, it failed in building a mathematical foundation to understand both the business and technical side. This experience left me with a desire to explore the data side of it all, so I decided to study Data Science in grad school. I hope to learn about many different fields (specialization to be defined), allowing me to understand data usage from a business and a technical perspective. After graduation, my intention is to work as a data scientist at a company that grants me creative freedom and encourages iterative data science, rather than linear problem solving.\n",
    "\n",
    "When I'm not focusing on school-related work, I like to use my free time playing sports (mainly soccer and racket sports), video games, and reading. I have two dogs back at home, Coco and Pucca, who I spend most of my time with (when home) and I now adopted two kittens (Edna and Remy) to have with me here in DC. Aside from all this, I greatly enjoy listening to and playing music; some of my favorite artists are Stromae, Keane, and Hanz Zimmer.\n",
    "\n",
    "### Project\n",
    "Initially, I was interested in studying the relationships between big-budget marketing campaigns vs no-budget marketing campaigns (e.g. Zara, Tesla, etc.) and their respective effects on revenue, but the data available for such a problem was sparse, so I decided to move on to my current topic of predicting group stage performance for World Cup squads. Not only did I select this topic out of personal interest, but I also believe that having a high-accuracy predictive model would be quite useful to so-called professional analysts and bettors, given that careers are made of properly guessing sports' results.\n",
    "\n",
    "### Idea hesitancy\n",
    "At first, I hadn't decided on this idea because I was unsure of the data availability for such a question. Initial searches had led me to many websites that promised sports data, but it was all hidden behind paywalls. Moreover, I worried that many of the variables I would be creating could come from a subjective standpoint, rather than an objective one. An example would be: is the team in a difficult group (yes or no)? Having gone ahead with this project, I would like to create a model with an accuracy rate of more than 65%. I think this can be perceived as an unambitious goal, but I *am* new to the data science world, so anything substantially better than a 50-50 guess would feel like a realtive success to me. Sadly, the World Cup won't be over before the semester finishes, so I won't be able to compare my model's results to the real world, but I will try to take a look at it once the tournament is over to see how my model performs.\n",
    "\n",
    "### What is data science?\n",
    "The project outline asked us to give an explanation, in our own words, of what we believe data science to be. This is a very pertinent question because I commonly find people to misunderstand the role of a data scientist. For example, the company where I held my previous job greatly struggled to understand the difference between a data analyst, data engineer, and data scientist. They had us performing duties from many different roles believing we had the appropriate experience to do the job. In my eyes, data science is the most mathematical position of the three aforementioned roles. In a general sense, I would explain data science as the use of data and mathematics to find answers to problems and generate predictions that can help in decision-making. Data science can be an effective tool, helping us find solutions and/or discover new sides to a problem we had never before considered. Nonetheless, this is a bit of a blanket statenebt, because once you consider automation technology, image processing, and other more advanced areas, it becomes more challenging to define the whole of data science in 1-2 sentences.\n",
    "\n",
    "### Technical report vs data science story\n",
    "We were also asked to define 3 differences between a technical report and a data science story. I could name various, but the most important differences are accessibility, engagement, and compulsion.\n",
    "\n",
    "- Accessible: a technical report can be difficult to read for non-technical people; it can even be dificult to read for some technical people. A data science story bridges the gap between the article and the readers' ability to understand the material. With a simplified language, story-driven report, and ample use of visualizations, a data science story can capture the attention of a much wider audience than a technical report.\n",
    "- Engaging: adding interactive visualizations and using metaphors to explain complicated topics will lead to wider reader acceptance. If you can engage the reader, they will be more likely to pay attention to the story and remember the message/result of the study. On the other hand, a technical report feels more like reading from a textbook.\n",
    "- Compulsion: a data science story's message must be compelling. There is no point in creating a story or presentation that doesn't resonate with the audience. Getting the public's attention will most likely generate a strong reaction and make your story relevant and memorable."
   ]
  },
  {
   "cell_type": "markdown",
   "metadata": {},
   "source": []
  }
 ],
 "metadata": {
  "language_info": {
   "name": "python"
  },
  "orig_nbformat": 4
 },
 "nbformat": 4,
 "nbformat_minor": 2
}

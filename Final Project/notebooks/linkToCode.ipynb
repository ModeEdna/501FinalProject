{
 "cells": [
  {
   "cell_type": "raw",
   "metadata": {},
   "source": [
    "---\n",
    "pdf-engine: lualatex\n",
    "format:\n",
    "  html:\n",
    "    toc: true\n",
    "    code-fold: true\n",
    "    toc-title: Contents\n",
    "    bibliography: ../references.bib\n",
    "    number-sections: true\n",
    "execute:\n",
    "  echo: true\n",
    "---"
   ]
  },
  {
   "cell_type": "markdown",
   "metadata": {},
   "source": [
    "## Code"
   ]
  },
  {
   "cell_type": "markdown",
   "metadata": {},
   "source": [
    "### Code repository\n",
    "\n",
    "You can access the code used to create the several models, do EDA, and other project deliverables in [this](https://github.com/anly501/anly-501-project-ModeEdna/tree/main/Website%20V2.0/codes) Github repository.\n",
    "\n",
    "Alternatively, you can access the full repository with everything needed for this project and webpage by clicking on the Github icon on the top left part of the navigation bar."
   ]
  },
  {
   "cell_type": "markdown",
   "metadata": {},
   "source": []
  }
 ],
 "metadata": {
  "kernelspec": {
   "display_name": "Python 3.10.4 ('ANLY501')",
   "language": "python",
   "name": "python3"
  },
  "language_info": {
   "name": "python",
   "version": "3.10.4"
  },
  "orig_nbformat": 4,
  "vscode": {
   "interpreter": {
    "hash": "6c72976fb237423a2a1d3151ac569995244a4a767dd0452f9a8ae3f982e3763a"
   }
  }
 },
 "nbformat": 4,
 "nbformat_minor": 2
}

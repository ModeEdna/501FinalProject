{
 "cells": [
  {
   "cell_type": "raw",
   "metadata": {},
   "source": [
    "---\n",
    "pdf-engine: lualatex\n",
    "format:\n",
    "  html:\n",
    "    toc: true\n",
    "    code-fold: true\n",
    "    toc-title: Contents\n",
    "    bibliography: ../references.bib\n",
    "    number-sections: true\n",
    "execute:\n",
    "  echo: true\n",
    "---"
   ]
  },
  {
   "cell_type": "markdown",
   "metadata": {},
   "source": [
    "## Project Introduction\n",
    "\n",
    "### About the project\n",
    "\n",
    "The goal of this project is to create a model that accurately predicts which teams will make it out of the group stage in the World Cup; ideally, we would use this prediction to find the teams that are predicted to move on that weren't expected to do so. In other words, I would use my model to find teams tha can be considered dark horses. I believe this type of model would be of interest to analysts, bettors, and anyone who could benefit from properly predicting who makes it to the next stage. Although the model would be helpful in those areas, my true interest is to improve my understanding of what makes a team successful and to find variables that could be connected to success that I previosuly saw as insignificant.\n",
    "\n",
    "From my prior experience and understanding of the sport, I would expect certain variables to have strong correlations with success (e.g. number of players playing in Europe, trend of recent play, prior success, etc.), but I'm more interested in finding those that no one expects to be relevant. It is also likely that my preconceived notions for indicators of success end up having low correlations with my predictor variable, which I would welcome as a pleasant surprise.\n",
    "\n",
    "I will need to create a dataset of teams and add features gathered from multiple data sources. I will also need to create scores such as group difficulty, success scores, among others. The problem with this is that the variables will be subjective, and this could skew the predictions toward my beliefs. My goal for the project is to use either a categorization or regression model to predict how far a team will go. With the results in hand, I can then match my predictions against the teams that would be seen as surprisingly successful to find cinderella stories.\n",
    "\n",
    "I think that my model will be able to predict on the testing data with an accuracy rate higher than 65%. If we take into consideration the often-occurring surprises from the World Cup and how difficult it is to properly predict team success, I would accept the 65% accuracy rate as a relatively solid result. At the time of writing, the World Cup has already begun and there have been multiple surprises; this will make for a great opportunity to test my model in a real-world scenario. I just have to wait for the group phase to be over and find out how well my model did (after gathering the data for the teams, of course).\n",
    "\n",
    "### Questions to answer\n",
    "\n",
    "To help us understand which types of data we'd have to gather to answer our data science question, we were asked to come up with a few more specific questions that we'll need to answer to get to the main questions. My questions are the following 10:\n",
    "\n",
    "- How many of the teams' players play in Europe's top 5 leagues?\n",
    "- What is the trend for each team's recent performance?\n",
    "- What is the average age for each team? How about for each starting 11?\n",
    "- What is the percentage of players per team that are young and don't play in Europe?\n",
    "- Which lineup formations were used?\n",
    "- What is the team's group stage difficulty?\n",
    "- What does each team's bracket look like?\n",
    "- How many fans did the team have in the world cup, in person?\n",
    "- FIFA Ranking?\n",
    "- Average player form per team leading to the world cup?"
   ]
  },
  {
   "cell_type": "markdown",
   "metadata": {},
   "source": []
  }
 ],
 "metadata": {
  "kernelspec": {
   "display_name": "Python 3.10.4 ('ANLY501')",
   "language": "python",
   "name": "python3"
  },
  "language_info": {
   "name": "python",
   "version": "3.10.4"
  },
  "orig_nbformat": 4,
  "vscode": {
   "interpreter": {
    "hash": "6c72976fb237423a2a1d3151ac569995244a4a767dd0452f9a8ae3f982e3763a"
   }
  }
 },
 "nbformat": 4,
 "nbformat_minor": 2
}

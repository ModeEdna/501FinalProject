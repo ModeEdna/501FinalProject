{
 "cells": [
  {
   "cell_type": "raw",
   "metadata": {},
   "source": [
    "---\n",
    "pdf-engine: lualatex\n",
    "format:\n",
    "  html:\n",
    "    toc: true\n",
    "    code-fold: true\n",
    "    toc-title: Contents\n",
    "    bibliography: references.bib\n",
    "    number-sections: false\n",
    "execute:\n",
    "  echo: false\n",
    "---"
   ]
  },
  {
   "cell_type": "markdown",
   "metadata": {},
   "source": [
    "### My background\n",
    "\n",
    "My name is Eduardo Armenta. Born and raised in Mexico, I left to study abroad for boarding school, then college, and now grad school. Currently, I am a first-year student in the Data Science and Analytics program at Georgetown University. For my undergrad studies, I went to Emory university, where I got a B.B.A. with specializations in Information Systems & Operations Management and International Business, along with a B.A. in French Language and Literature. Although I haven't chosen a specialty within the program, my main interest for this project is to use different predictive models to make an educated guess of which teams will advance to the knockout stages in this year's World Cup.\n",
    "\n",
    "### Education\n",
    "- 2018: Emory University: Business Administration (ISOM and INTL BUS) and French Language and Literature.\n",
    "- 2024: Expected graduation from Georgetown University: Data Science and Analytics.\n",
    "\n",
    "### A few points on this website\n",
    "- This page is intended to represent my work in the ANLY 501 class (data science and analytics). Throughout the semester, we learnt about different predictive models and data-handling methods that we then put to the test with our project theme in mind.\n",
    "- My final project was created with the goal of predicting which teams will make it out of the group stages in the World Cup.\n",
    "- To **navigate the website**, the left-side panel will move you between topics and sub-topics, while the right side panel can help navigate each specific page, showing the contents of each topic.\n",
    "- There are **two ways to access the code and data** for the project. The first one is by clicking on the Github link at the top of the navigation bar. The second one is by choosing the code you're interested in from the left-side navigation menu and clicking on the link within the page of interest.\n",
    "- You can switch between light and dark mode by clicking on the top-left toggle button!"
   ]
  },
  {
   "cell_type": "markdown",
   "metadata": {},
   "source": []
  }
 ],
 "metadata": {
  "kernelspec": {
   "display_name": "Python 3.10.4 ('ANLY501')",
   "language": "python",
   "name": "python3"
  },
  "language_info": {
   "name": "python",
   "version": "3.10.4"
  },
  "orig_nbformat": 4,
  "vscode": {
   "interpreter": {
    "hash": "6c72976fb237423a2a1d3151ac569995244a4a767dd0452f9a8ae3f982e3763a"
   }
  }
 },
 "nbformat": 4,
 "nbformat_minor": 2
}

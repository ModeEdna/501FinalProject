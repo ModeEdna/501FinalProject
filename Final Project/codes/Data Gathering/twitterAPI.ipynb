{
 "cells": [
  {
   "cell_type": "code",
   "execution_count": 7,
   "metadata": {},
   "outputs": [],
   "source": [
    "# import all required libraries and files\n",
    "\n",
    "import json\n",
    "from logging import raiseExceptions \n",
    "from datetime import datetime\n",
    "import os\n",
    "import pandas as pd\n",
    "import os\n",
    "import requests\n",
    "import csv\n",
    "from tqdm import tqdm\n",
    "import tweepy\n",
    "import time\n",
    "\n",
    "api = pd.read_csv(\"/Users/modeedna/Desktop/SCHOOLS/GEORGETOWN/501 DSAN/Twitter_API.txt\")"
   ]
  },
  {
   "cell_type": "code",
   "execution_count": 2,
   "metadata": {},
   "outputs": [],
   "source": [
    "# grab required keys and tokens\n",
    "consumer_key        = api[api[\"Type\"]==\"API Key\"].iloc[0,1]\n",
    "consumer_secret     = api[api[\"Type\"]==\"API Key Secret\"].iloc[0,1]\n",
    "access_token        = api[api[\"Type\"]==\"Access Token\"].iloc[0,1]\n",
    "access_token_secret = api[api[\"Type\"]==\"Access Token Secret\"].iloc[0,1]\n",
    "bearer_token        = api[api[\"Type\"]==\"Bearer Token\"].iloc[0,1]"
   ]
  },
  {
   "cell_type": "code",
   "execution_count": 5,
   "metadata": {},
   "outputs": [
    {
     "name": "stdout",
     "output_type": "stream",
     "text": [
      "EdnaMode07\n"
     ]
    }
   ],
   "source": [
    "# authorize use of API\n",
    "auth = tweepy.OAuthHandler(consumer_key, consumer_secret)\n",
    "auth.set_access_token(access_token, access_token_secret)\n",
    "\n",
    "api = tweepy.API(auth, wait_on_rate_limit=True)\n",
    "headers = {\"Authorization\": \"Bearer {}\".format(bearer_token)}\n",
    "print(api.verify_credentials().screen_name)"
   ]
  },
  {
   "cell_type": "code",
   "execution_count": 10,
   "metadata": {},
   "outputs": [],
   "source": [
    "# Add the search_twitter function here.\n",
    "def search_twitter(query, max_results, tweet_fields, bearer_token = bearer_token):\n",
    "    headers = {\"Authorization\": \"Bearer {}\".format(bearer_token)}\n",
    "\n",
    "    url = \"https://api.twitter.com/2/tweets/search/recent?query={}&max_results={}&{}\".format(query,max_results,tweet_fields)\n",
    "\n",
    "    response = requests.request(\"GET\", url, headers=headers)\n",
    "\n",
    "    print(response.status_code)\n",
    "\n",
    "    if response.status_code != 200:\n",
    "        raise Exception(response.status_code, response.text)\n",
    "    return response.json()"
   ]
  },
  {
   "cell_type": "code",
   "execution_count": 48,
   "metadata": {},
   "outputs": [
    {
     "name": "stdout",
     "output_type": "stream",
     "text": [
      "200\n",
      "200\n",
      "200\n",
      "200\n",
      "200\n",
      "200\n",
      "200\n",
      "200\n",
      "200\n",
      "200\n",
      "200\n",
      "200\n",
      "200\n",
      "200\n",
      "200\n",
      "200\n",
      "200\n",
      "200\n",
      "200\n",
      "200\n",
      "200\n",
      "200\n",
      "200\n",
      "200\n",
      "200\n",
      "200\n",
      "200\n",
      "200\n",
      "200\n",
      "200\n",
      "200\n",
      "200\n",
      "200\n",
      "200\n",
      "200\n",
      "200\n",
      "200\n",
      "200\n",
      "200\n",
      "200\n",
      "200\n",
      "200\n",
      "200\n",
      "200\n",
      "200\n",
      "200\n",
      "200\n",
      "200\n",
      "200\n",
      "200\n",
      "200\n",
      "200\n",
      "200\n",
      "200\n",
      "200\n",
      "200\n",
      "200\n",
      "200\n",
      "200\n",
      "200\n",
      "200\n",
      "200\n",
      "200\n",
      "200\n",
      "200\n",
      "200\n",
      "200\n",
      "200\n",
      "200\n",
      "200\n",
      "200\n",
      "200\n",
      "200\n",
      "200\n",
      "200\n",
      "200\n",
      "200\n",
      "200\n"
     ]
    }
   ],
   "source": [
    "# parameters\n",
    "\n",
    "tweet_fields = \"tweet.fields=text,author_id,created_at,lang\"\n",
    "tweet_res = [100, 100, 100, 100, 100, 100, 100, 100, 100, 100, 100, 100, 100, 100, 100, 100, 100, 100, 100, 100, 100, 100, 100, 100, 100, 100, 100, 100, 100, 100, 100, 100, 100, 100, 100, 100, 100, 100, 100,\n",
    "            100, 100, 100, 100, 100, 100, 100, 100, 100, 100, 100, 100, 100, 100, 100, 100, 100, 100, 100, 100, 100, 100, 100, 100, 100, 100, 100, 100, 100, 100, 100, 100, 100, 100, 100, 100, 100, 100, 100]\n",
    "tweets_jsondata = []\n",
    "data_path = '/Users/modeedna/Desktop/SCHOOLS/GEORGETOWN/501 DSAN/Labs/Lab 1.2/Data/'\n",
    "search_tweets = [\"FIFAWorldCup\"]\n",
    "\n",
    "for tidx, tval in enumerate(search_tweets):\n",
    "    tweets_jsondump = []\n",
    "    for nidx, nval in enumerate(tweet_res):\n",
    "        json_response = search_twitter(query=tval, max_results=nval, tweet_fields=tweet_fields, bearer_token=bearer_token)\n",
    "        for i in json_response['data']:\n",
    "            tweets_jsondata.append(i)\n",
    "        with open(data_path+tval+'-project-tweets.json', 'w') as json_file:\n",
    "            json.dump(tweets_jsondata, json_file)\n",
    "            json_file.close()"
   ]
  },
  {
   "cell_type": "code",
   "execution_count": 61,
   "metadata": {},
   "outputs": [],
   "source": [
    "import matplotlib.pyplot as plt\n",
    "open_json = open(data_path+'/FIFAWorldCup-project-tweets.json')\n",
    "load_json = json.load(open_json)\n",
    "df_tweet = pd.DataFrame(load_json)"
   ]
  },
  {
   "cell_type": "code",
   "execution_count": 62,
   "metadata": {},
   "outputs": [
    {
     "data": {
      "text/html": [
       "<div>\n",
       "<style scoped>\n",
       "    .dataframe tbody tr th:only-of-type {\n",
       "        vertical-align: middle;\n",
       "    }\n",
       "\n",
       "    .dataframe tbody tr th {\n",
       "        vertical-align: top;\n",
       "    }\n",
       "\n",
       "    .dataframe thead th {\n",
       "        text-align: right;\n",
       "    }\n",
       "</style>\n",
       "<table border=\"1\" class=\"dataframe\">\n",
       "  <thead>\n",
       "    <tr style=\"text-align: right;\">\n",
       "      <th></th>\n",
       "      <th>author_id</th>\n",
       "      <th>created_at</th>\n",
       "      <th>text</th>\n",
       "      <th>lang</th>\n",
       "      <th>id</th>\n",
       "    </tr>\n",
       "  </thead>\n",
       "  <tbody>\n",
       "    <tr>\n",
       "      <th>0</th>\n",
       "      <td>1455887554633289734</td>\n",
       "      <td>2022-09-14T21:38:14.000Z</td>\n",
       "      <td>RT @FIFAWorldCup: The first player to score in...</td>\n",
       "      <td>en</td>\n",
       "      <td>1570165047296663555</td>\n",
       "    </tr>\n",
       "    <tr>\n",
       "      <th>1</th>\n",
       "      <td>1535679686235283456</td>\n",
       "      <td>2022-09-14T21:38:13.000Z</td>\n",
       "      <td>Erling...... https://t.co/raEld9YFiV</td>\n",
       "      <td>da</td>\n",
       "      <td>1570165042368094211</td>\n",
       "    </tr>\n",
       "    <tr>\n",
       "      <th>2</th>\n",
       "      <td>1094489940329672709</td>\n",
       "      <td>2022-09-14T21:38:10.000Z</td>\n",
       "      <td>RT @FIFAWorldCup: The first player to score in...</td>\n",
       "      <td>en</td>\n",
       "      <td>1570165033069330437</td>\n",
       "    </tr>\n",
       "    <tr>\n",
       "      <th>3</th>\n",
       "      <td>3039584074</td>\n",
       "      <td>2022-09-14T21:38:08.000Z</td>\n",
       "      <td>@FIFAWorldCup @ChampionsLeague @Cristiano not ...</td>\n",
       "      <td>en</td>\n",
       "      <td>1570165024546488321</td>\n",
       "    </tr>\n",
       "    <tr>\n",
       "      <th>4</th>\n",
       "      <td>4135602742</td>\n",
       "      <td>2022-09-14T21:37:57.000Z</td>\n",
       "      <td>@fifaworldcup_ar @18_voltaren @fahad_almowalad...</td>\n",
       "      <td>ar</td>\n",
       "      <td>1570164979298607105</td>\n",
       "    </tr>\n",
       "    <tr>\n",
       "      <th>...</th>\n",
       "      <td>...</td>\n",
       "      <td>...</td>\n",
       "      <td>...</td>\n",
       "      <td>...</td>\n",
       "      <td>...</td>\n",
       "    </tr>\n",
       "    <tr>\n",
       "      <th>7795</th>\n",
       "      <td>1431390297389404161</td>\n",
       "      <td>2022-09-14T21:33:43.000Z</td>\n",
       "      <td>RT @cabjedits: Que hace el sobrevalorado de Ri...</td>\n",
       "      <td>es</td>\n",
       "      <td>1570163913232089089</td>\n",
       "    </tr>\n",
       "    <tr>\n",
       "      <th>7796</th>\n",
       "      <td>1542474733005963264</td>\n",
       "      <td>2022-09-14T21:33:42.000Z</td>\n",
       "      <td>RT @FIFAWorldCup: Nobody can stop @ErlingHaala...</td>\n",
       "      <td>en</td>\n",
       "      <td>1570163907859300352</td>\n",
       "    </tr>\n",
       "    <tr>\n",
       "      <th>7797</th>\n",
       "      <td>1444408292915261440</td>\n",
       "      <td>2022-09-14T21:33:41.000Z</td>\n",
       "      <td>RT @AscoALasPlumas: Los de @AUFOficial y @auda...</td>\n",
       "      <td>es</td>\n",
       "      <td>1570163905099403272</td>\n",
       "    </tr>\n",
       "    <tr>\n",
       "      <th>7798</th>\n",
       "      <td>900224269</td>\n",
       "      <td>2022-09-14T21:33:41.000Z</td>\n",
       "      <td>Any which way, just stick it away #goalscorer ...</td>\n",
       "      <td>en</td>\n",
       "      <td>1570163903400902657</td>\n",
       "    </tr>\n",
       "    <tr>\n",
       "      <th>7799</th>\n",
       "      <td>1289352516531113984</td>\n",
       "      <td>2022-09-14T21:33:41.000Z</td>\n",
       "      <td>RT @FIFAWorldCup: The first player to score in...</td>\n",
       "      <td>en</td>\n",
       "      <td>1570163903124086784</td>\n",
       "    </tr>\n",
       "  </tbody>\n",
       "</table>\n",
       "<p>7800 rows × 5 columns</p>\n",
       "</div>"
      ],
      "text/plain": [
       "                author_id                created_at  \\\n",
       "0     1455887554633289734  2022-09-14T21:38:14.000Z   \n",
       "1     1535679686235283456  2022-09-14T21:38:13.000Z   \n",
       "2     1094489940329672709  2022-09-14T21:38:10.000Z   \n",
       "3              3039584074  2022-09-14T21:38:08.000Z   \n",
       "4              4135602742  2022-09-14T21:37:57.000Z   \n",
       "...                   ...                       ...   \n",
       "7795  1431390297389404161  2022-09-14T21:33:43.000Z   \n",
       "7796  1542474733005963264  2022-09-14T21:33:42.000Z   \n",
       "7797  1444408292915261440  2022-09-14T21:33:41.000Z   \n",
       "7798            900224269  2022-09-14T21:33:41.000Z   \n",
       "7799  1289352516531113984  2022-09-14T21:33:41.000Z   \n",
       "\n",
       "                                                   text lang  \\\n",
       "0     RT @FIFAWorldCup: The first player to score in...   en   \n",
       "1                  Erling...... https://t.co/raEld9YFiV   da   \n",
       "2     RT @FIFAWorldCup: The first player to score in...   en   \n",
       "3     @FIFAWorldCup @ChampionsLeague @Cristiano not ...   en   \n",
       "4     @fifaworldcup_ar @18_voltaren @fahad_almowalad...   ar   \n",
       "...                                                 ...  ...   \n",
       "7795  RT @cabjedits: Que hace el sobrevalorado de Ri...   es   \n",
       "7796  RT @FIFAWorldCup: Nobody can stop @ErlingHaala...   en   \n",
       "7797  RT @AscoALasPlumas: Los de @AUFOficial y @auda...   es   \n",
       "7798  Any which way, just stick it away #goalscorer ...   en   \n",
       "7799  RT @FIFAWorldCup: The first player to score in...   en   \n",
       "\n",
       "                       id  \n",
       "0     1570165047296663555  \n",
       "1     1570165042368094211  \n",
       "2     1570165033069330437  \n",
       "3     1570165024546488321  \n",
       "4     1570164979298607105  \n",
       "...                   ...  \n",
       "7795  1570163913232089089  \n",
       "7796  1570163907859300352  \n",
       "7797  1570163905099403272  \n",
       "7798  1570163903400902657  \n",
       "7799  1570163903124086784  \n",
       "\n",
       "[7800 rows x 5 columns]"
      ]
     },
     "execution_count": 62,
     "metadata": {},
     "output_type": "execute_result"
    }
   ],
   "source": [
    "df_tweet"
   ]
  },
  {
   "cell_type": "code",
   "execution_count": 67,
   "metadata": {},
   "outputs": [],
   "source": [
    "# create a function that'll count the usage of words throughout the tweets\n",
    "def keyword_counter(keyword):\n",
    "    counter = 0\n",
    "    for i in range(0,7800):\n",
    "        if keyword in df_tweet.iloc[i,2]:\n",
    "            counter += 1\n",
    "    return counter"
   ]
  },
  {
   "cell_type": "code",
   "execution_count": 68,
   "metadata": {},
   "outputs": [
    {
     "name": "stdout",
     "output_type": "stream",
     "text": [
      "           Country  Amount\n",
      "0            Qatar       0\n",
      "1          Ecuador       0\n",
      "2          Senegal     156\n",
      "3      Netherlands       0\n",
      "4          England       0\n",
      "5               IR       0\n",
      "6             Iran       0\n",
      "7              USA       0\n",
      "8            Wales       0\n",
      "9        Argentina       0\n",
      "10    Saudi Arabia       0\n",
      "11          Mexico       0\n",
      "12          Poland       0\n",
      "13          France       0\n",
      "14       Australia       0\n",
      "15         Denmark       0\n",
      "16         Tunisia       0\n",
      "17           Spain       0\n",
      "18      Costa Rica       0\n",
      "19         Germany       0\n",
      "20           Japan       0\n",
      "21         Belgium       0\n",
      "22          Canada     436\n",
      "23         Morocco       0\n",
      "24         Croatia       0\n",
      "25          Brazil       0\n",
      "26          Serbia       0\n",
      "27     Switzerland       0\n",
      "28        Cameroon       0\n",
      "29        Portugal       0\n",
      "30           Ghana       0\n",
      "31         Uruguay       0\n",
      "32  Korea Republic       0\n"
     ]
    }
   ],
   "source": [
    "# for loop to populate a dictionary and turn it into a dataframe\n",
    "df = []\n",
    "countries = ['Qatar', 'Ecuador', 'Senegal', 'Netherlands', 'England', 'IR', 'Iran', 'USA', 'Wales', 'Argentina', 'Saudi Arabia', 'Mexico', 'Poland', 'France', 'Australia', 'Denmark', 'Tunisia',\n",
    "            'Spain', 'Costa Rica', 'Germany', 'Japan', 'Belgium', 'Canada', 'Morocco', 'Croatia', 'Brazil', 'Serbia', 'Switzerland', 'Cameroon', 'Portugal', 'Ghana', 'Uruguay', 'Korea Republic']\n",
    "for country in countries:\n",
    "    df.append(\n",
    "        {\n",
    "            'Country': country,\n",
    "            'Amount': keyword_counter(country),\n",
    "        }\n",
    "    )\n",
    "print(pd.DataFrame(df))\n",
    "cDF = pd.DataFrame(df)"
   ]
  },
  {
   "cell_type": "code",
   "execution_count": 69,
   "metadata": {},
   "outputs": [
    {
     "data": {
      "image/png": "[encoded data removed]",
      "text/plain": [
       "<Figure size 432x288 with 1 Axes>"
      ]
     },
     "metadata": {
      "needs_background": "light"
     },
     "output_type": "display_data"
    }
   ],
   "source": [
    "ax = cDF.plot.bar(x='Country')\n",
    "ax.set_title(\"Frequency count of countries in tweets search\", fontsize=18)\n",
    "ax.set_xlabel('Countries', fontsize=16)\n",
    "ax.set_ylabel('Count', fontsize=16)\n",
    "for label in (ax.get_xticklabels() + ax.get_yticklabels()):\n",
    "\tlabel.set_fontsize(14)"
   ]
  },
  {
   "cell_type": "code",
   "execution_count": 70,
   "metadata": {},
   "outputs": [
    {
     "data": {
      "image/png": "[encoded data removed]",
      "text/plain": [
       "<Figure size 432x288 with 1 Axes>"
      ]
     },
     "metadata": {
      "needs_background": "light"
     },
     "output_type": "display_data"
    }
   ],
   "source": [
    "import matplotlib.pyplot as plt\n",
    "ax = df_tweet.lang.value_counts().sort_values().plot(kind='bar')\n",
    "ax.set_title(\"Count of langugage use in World Cup search\")\n",
    "ax.set_xlabel('Tweet language count', fontsize=16)\n",
    "ax.set_ylabel('Language Code', fontsize=16)\n",
    "for label in (ax.get_xticklabels() + ax.get_yticklabels()):\n",
    "\tlabel.set_fontsize(14)"
   ]
  },
  {
   "cell_type": "code",
   "execution_count": null,
   "metadata": {},
   "outputs": [],
   "source": []
  }
 ],
 "metadata": {
  "kernelspec": {
   "display_name": "ANLY501",
   "language": "python",
   "name": "anly501"
  },
  "language_info": {
   "codemirror_mode": {
    "name": "ipython",
    "version": 3
   },
   "file_extension": ".py",
   "mimetype": "text/x-python",
   "name": "python",
   "nbconvert_exporter": "python",
   "pygments_lexer": "ipython3",
   "version": "3.10.4"
  },
  "orig_nbformat": 4,
  "vscode": {
   "interpreter": {
    "hash": "31f2aee4e71d21fbe5cf8b01ff0e069b9275f58929596ceb00d14d90e3e16cd6"
   }
  }
 },
 "nbformat": 4,
 "nbformat_minor": 2
}

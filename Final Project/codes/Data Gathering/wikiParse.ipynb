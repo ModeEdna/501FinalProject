{
 "cells": [
  {
   "cell_type": "code",
   "execution_count": 6,
   "id": "16ccb29f",
   "metadata": {},
   "outputs": [],
   "source": [
    "cups = ['2002_FIFA_World_Cup_squads','2006_FIFA_World_Cup_squads','2010_FIFA_World_Cup_squads','2014_FIFA_World_Cup_squads','2018_FIFA_World_Cup_squads']"
   ]
  },
  {
   "cell_type": "code",
   "execution_count": 17,
   "id": "793903c3",
   "metadata": {},
   "outputs": [],
   "source": [
    "import pandas as pd\n",
    "import numpy as np\n",
    "import matplotlib.pyplot as plt\n",
    "from unicodedata import normalize\n",
    "\n",
    "worldCup2002 = pd.read_html('https://en.wikipedia.org/wiki/2002_FIFA_World_Cup_squads')\n",
    "worldCup2006 = pd.read_html('https://en.wikipedia.org/wiki/2006_FIFA_World_Cup_squads')\n",
    "worldCup2010 = pd.read_html('https://en.wikipedia.org/wiki/2010_FIFA_World_Cup_squads')\n",
    "worldCup2014 = pd.read_html('https://en.wikipedia.org/wiki/2014_FIFA_World_Cup_squads')\n",
    "worldCup2018 = pd.read_html('https://en.wikipedia.org/wiki/2018_FIFA_World_Cup_squads')"
   ]
  },
  {
   "cell_type": "code",
   "execution_count": 26,
   "id": "73d9c273",
   "metadata": {},
   "outputs": [],
   "source": [
    "worldCup2002 = worldCup2002[0:31]\n",
    "worldCup2006 = worldCup2006[0:31]\n",
    "worldCup2010 = worldCup2010[0:31]\n",
    "worldCup2014 = worldCup2014[0:31]\n",
    "worldCup2018 = worldCup2018[0:31]"
   ]
  },
  {
   "cell_type": "code",
   "execution_count": 29,
   "id": "fdf65517",
   "metadata": {},
   "outputs": [],
   "source": [
    "worldCup2002 = pd.concat(worldCup2002)\n",
    "worldCup2006 = pd.concat(worldCup2006)\n",
    "worldCup2010 = pd.concat(worldCup2010)\n",
    "worldCup2014 = pd.concat(worldCup2014)\n",
    "worldCup2018 = pd.concat(worldCup2018)"
   ]
  },
  {
   "cell_type": "code",
   "execution_count": 30,
   "id": "4e3859a0",
   "metadata": {},
   "outputs": [],
   "source": [
    "worldCup2002.to_csv('/Users/modeedna/github-classroom/anly501/anly-501-project-ModeEdna/data/projectData/cup2002')\n",
    "worldCup2006.to_csv('/Users/modeedna/github-classroom/anly501/anly-501-project-ModeEdna/data/projectData/cup2006')\n",
    "worldCup2010.to_csv('/Users/modeedna/github-classroom/anly501/anly-501-project-ModeEdna/data/projectData/cup2010')\n",
    "worldCup2014.to_csv('/Users/modeedna/github-classroom/anly501/anly-501-project-ModeEdna/data/projectData/cup2014')\n",
    "worldCup2018.to_csv('/Users/modeedna/github-classroom/anly501/anly-501-project-ModeEdna/data/projectData/cup2018')"
   ]
  },
  {
   "cell_type": "code",
   "execution_count": null,
   "id": "2d3e93bc",
   "metadata": {},
   "outputs": [],
   "source": []
  }
 ],
 "metadata": {
  "kernelspec": {
   "display_name": "Python 3.8.9 64-bit",
   "language": "python",
   "name": "python3"
  },
  "language_info": {
   "codemirror_mode": {
    "name": "ipython",
    "version": 3
   },
   "file_extension": ".py",
   "mimetype": "text/x-python",
   "name": "python",
   "nbconvert_exporter": "python",
   "pygments_lexer": "ipython3",
   "version": "3.8.9"
  },
  "vscode": {
   "interpreter": {
    "hash": "31f2aee4e71d21fbe5cf8b01ff0e069b9275f58929596ceb00d14d90e3e16cd6"
   }
  }
 },
 "nbformat": 4,
 "nbformat_minor": 5
}

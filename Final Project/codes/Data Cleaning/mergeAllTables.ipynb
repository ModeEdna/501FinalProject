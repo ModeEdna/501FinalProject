{
 "cells": [
  {
   "cell_type": "code",
   "execution_count": 1,
   "metadata": {},
   "outputs": [
    {
     "name": "stderr",
     "output_type": "stream",
     "text": [
      "/Users/modeedna/opt/anaconda3/envs/ANLY501/lib/python3.10/site-packages/scipy/__init__.py:146: UserWarning: A NumPy version >=1.16.5 and <1.23.0 is required for this version of SciPy (detected version 1.23.1\n",
      "  warnings.warn(f\"A NumPy version >={np_minversion} and <{np_maxversion}\"\n"
     ]
    }
   ],
   "source": [
    "# import required libraries\n",
    "import pandas as pd\n",
    "import seaborn as sns\n",
    "from matplotlib import pyplot as plt\n",
    "import numpy as np\n",
    "from sklearn import preprocessing"
   ]
  },
  {
   "cell_type": "code",
   "execution_count": 17,
   "metadata": {},
   "outputs": [],
   "source": [
    "# import required dfs\n",
    "allSquads = pd.read_csv('../../data/cleanData/cleanAllSquadsV2.csv', index_col=False)\n",
    "quali = pd.read_csv('../../data/cleanData/qualiClean.csv', index_col=False)\n",
    "countries = pd.read_csv('../../data/cleanData/cleanSquadsPerWorldCup.csv', index_col=False)"
   ]
  },
  {
   "cell_type": "code",
   "execution_count": 18,
   "metadata": {},
   "outputs": [],
   "source": [
    "# merge two out of 3 dfs\n",
    "countryQuali = pd.merge(countries,quali,left_on=['Country','Year'],right_on=['Team','Year'],how='left').drop(['Team','FifaRanking','MedianCaps','MedianAge','eliteTeamPlayers'],axis=1)\n",
    "# fix year column\n",
    "countryQuali['Year'] = pd.to_datetime(countryQuali['Year'], format='%Y')"
   ]
  },
  {
   "cell_type": "code",
   "execution_count": 19,
   "metadata": {},
   "outputs": [],
   "source": [
    "# create age column\n",
    "allSquads.Year = pd.to_datetime(allSquads.Year, format='%Y')\n",
    "allSquads['Date.of.birth..age.'] = pd.to_datetime(allSquads['Date.of.birth..age.'], format='%Y-%m-%d')\n",
    "allSquads['Age'] = (allSquads.Year - allSquads['Date.of.birth..age.'])/np.timedelta64(1, 'Y')\n",
    "# fix negative ages with mean of column\n",
    "allSquads.loc[allSquads['Age']<0,'Age'] = allSquads['Age'].mean()\n",
    "# group third df\n",
    "groupedDF = allSquads.groupby(['Year','Country']).aggregate({'Caps': np.mean, 'eliteClub': np.sum, 'Age': np.mean}).reset_index()"
   ]
  },
  {
   "cell_type": "code",
   "execution_count": 20,
   "metadata": {},
   "outputs": [],
   "source": [
    "# merge to get final dataframe\n",
    "all = pd.merge(countryQuali,groupedDF,left_on=['Year','Country'],right_on=['Year','Country'],how='left')\n",
    "\n",
    "# select desired columns\n",
    "all = all[['Country','Group','Year','Host','PastGroup','DifficultGroup','RankFIFA','QualiStreak','Caps','eliteClub','Age']]"
   ]
  },
  {
   "cell_type": "code",
   "execution_count": 21,
   "metadata": {},
   "outputs": [],
   "source": [
    "# export dataframe without normalization\n",
    "all.to_csv('../../data/cleanData/allTables.csv')"
   ]
  },
  {
   "cell_type": "code",
   "execution_count": 22,
   "metadata": {},
   "outputs": [],
   "source": [
    "# normalize data\n",
    "allNorm = all\n",
    "cols_to_norm = ['RankFIFA','QualiStreak','Caps','eliteClub','Age']\n",
    "allNorm[cols_to_norm] = allNorm[cols_to_norm].apply(lambda x: (x - x.min()) / (x.max() - x.min()))"
   ]
  },
  {
   "cell_type": "code",
   "execution_count": 25,
   "metadata": {},
   "outputs": [],
   "source": [
    "# export normalized data\n",
    "allNorm.to_csv('../../data/cleanData/allTablesNorm.csv')"
   ]
  }
 ],
 "metadata": {
  "kernelspec": {
   "display_name": "Python 3.10.4 ('ANLY501')",
   "language": "python",
   "name": "python3"
  },
  "language_info": {
   "codemirror_mode": {
    "name": "ipython",
    "version": 3
   },
   "file_extension": ".py",
   "mimetype": "text/x-python",
   "name": "python",
   "nbconvert_exporter": "python",
   "pygments_lexer": "ipython3",
   "version": "3.10.4"
  },
  "orig_nbformat": 4,
  "vscode": {
   "interpreter": {
    "hash": "6c72976fb237423a2a1d3151ac569995244a4a767dd0452f9a8ae3f982e3763a"
   }
  }
 },
 "nbformat": 4,
 "nbformat_minor": 2
}
